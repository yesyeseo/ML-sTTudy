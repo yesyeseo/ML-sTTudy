{
 "cells": [
  {
   "cell_type": "code",
   "execution_count": null,
   "id": "7a71b0e7",
   "metadata": {},
   "outputs": [],
   "source": [
    "import numpy as np\n",
    "'''\n",
    "ndarray라 하는 N차원 배열의 객체가 이 모듈의 핵심 기능. \n",
    "파이썬에서 할 수 있는 대규모 데이터 집합을 담을 수 있는 빠르고 유연한 자료구조.\n",
    "list: 하나의 리스트 안에 여러 종류의 데이터 타입이 담길 수 있다.\n",
    "ndarray: 하나의 ndarr안에 한가지 타입의 자료형만 올 수 있다. 음수가 아닌 정수 튜플로 인덱싱 된다.\n",
    "차원의 수는 배열의 랭크이다. 배열의 shape은 각 차원 별 배열 크기의 튜플이다. \n",
    "중첩된 파이썬 리스트로부터 numpy 배열을 초기화 할 수 있고 대괄호를 사용하여 요소에 접근할 수 있다. \n",
    "'''"
   ]
  },
  {
   "cell_type": "markdown",
   "id": "f9f1615f",
   "metadata": {},
   "source": [
    "#####  # 넘파이 ndarray와 리스트의 비교"
   ]
  },
  {
   "cell_type": "code",
   "execution_count": null,
   "id": "7af3c247",
   "metadata": {},
   "outputs": [],
   "source": [
    "'''넘파이 ndarray와 리스트의 비교'''\n",
    "\n",
    "# Numpy\n",
    "print(\"[Numpy 수행 결과]\\n\")\n",
    "a = np.array([1,2,3])\n",
    "for item in a:\n",
    "    print(item, end=' ')\n",
    "    \n",
    "# 원소추가\n",
    "a = np.append(a, 4)  \n",
    "print(a, type(a)) # 콤마가 같이 찍히지 않는다\n",
    "\n",
    "# 덧셈\n",
    "a=a+5 # -> 각 모든 원소에 5씩 더함(broadcasting +5 적용)\n",
    "print(a)\n",
    "# 곱셈 \n",
    "a1 = np.array([1,2,3])\n",
    "print(a1*2)\n",
    "\n",
    "\n",
    "# List\n",
    "print(\"[List 수행 결과]\\n\")\n",
    "# 원소추가\n",
    "L.append(4)\n",
    "print(L, type(L))\n",
    "# 리스트의 덧셈\n",
    "L = L + [5] # 원소 추가의 효과\n",
    "print(L) \n",
    "# 만약 리스트의 모든 원소를 5배 해주고 싶다면 for 문을 사용해야 한다. \n",
    "L = [ 5*i for i in L]\n",
    "print(L)\n",
    "# 곱셈\n",
    "L1 = [1,2,3]\n",
    "print(L1*2) # 똑같은 원소가 2번 반복됨"
   ]
  },
  {
   "cell_type": "markdown",
   "id": "76fe50a9",
   "metadata": {},
   "source": [
    "##### # ndarray배열 생성하기"
   ]
  },
  {
   "cell_type": "code",
   "execution_count": null,
   "id": "ec089138",
   "metadata": {},
   "outputs": [],
   "source": [
    "# ndarray배열 생성하기\n",
    "n1 = np.array([1,2,3])\n",
    "print(type(n1), t1.ndim, t1.shape, t1.dtype)\n",
    "\n",
    "# asarray로 ndarray를 생성하기\n",
    "# n1 = n1*2 <- 이런식으로 다시 대입해서 쓰는 게 귀찮은 경우 asarray사용 -> 복사된 자료와 같은 주솟값을 보고 있다\n",
    "n2 = np.asarray(n1)\n",
    "n3 = np.array(n1) # 새로운 copy본을 만들어서 n3을 만든다\n",
    "print(n1)\n",
    "print(n2)\n",
    "n2[0]=10\n",
    "print(n1)\n",
    "print(n2) # n1과 n2 둘 다 바뀌어 있는 것을 확인할 수 있다.\n",
    "print(n3) # n3에 바뀌기 전에 복사된 n1값이 들어있음을 확인할 수 있다."
   ]
  },
  {
   "cell_type": "code",
   "execution_count": null,
   "id": "8e29007c",
   "metadata": {},
   "outputs": [],
   "source": [
    "# custom 배열\n",
    "a = np.zeros((3,4))\n",
    "b = np.ones((3,4))\n",
    "c = np.full((2,3), 5) # 숫자 5로 채워진 2행3열 \n",
    "d = np.empty((2,2)) # 빈공간 어레이 만들기. 지금 현재 메모리에 채워진 숫자 아무거나 불러와짐\n",
    "print(a)\n",
    "print(b)\n",
    "print(c)\n",
    "print(d)\n",
    "\n",
    "e = np.zeros_like(a)\n",
    "f = np.ones_like(b)\n",
    "g = np.full_like(c,2) # 숫자 5로 채워진 2행3열 \n",
    "h = np.empty_like(d) # 빈공간 어레이 만들기. 지금 현재 메모리에 채워진 숫자 아무거나 불러와짐\n",
    "print(e)\n",
    "print(f)\n",
    "print(g)\n",
    "print(h)"
   ]
  },
  {
   "cell_type": "code",
   "execution_count": null,
   "id": "347249df",
   "metadata": {},
   "outputs": [],
   "source": [
    "# 항등행렬 생성\n",
    "i = np.eye(3)\n",
    "j = np.identity(4)\n",
    "print(i)\n",
    "print(j)\n",
    "\n",
    "# arange -> for i in range와 비슷한거\n",
    "k1 = np.arange(10)\n",
    "print(k1)\n",
    "k2 = np.arange(5,10) # 역시 범위는 [이상~미만)\n",
    "print(k2)\n",
    "\n",
    "# 랜덤한 ndarray 생성 \n",
    "# uniform distribution\n",
    "r1 = np.random.rand(2,2) # 0~1사이의 값을 동일한 확률로 뽑는다.\n",
    "print(r1)\n",
    "\n",
    "# normal distribution\n",
    "r2 = np.random.randn(2,2) # 표준 정규분포에서 뽑는다 (평균0, 표준편차1)\n",
    "print(r2)"
   ]
  },
  {
   "cell_type": "markdown",
   "id": "25b49a0b",
   "metadata": {},
   "source": [
    "##### # ndarray의 원소 데이터 타입 dtype"
   ]
  },
  {
   "cell_type": "code",
   "execution_count": null,
   "id": "f618d9f2",
   "metadata": {},
   "outputs": [],
   "source": [
    "# 배열의 dtype (안에 있는 원소의 데이터 타입)\n",
    "# 아무것도 안쓰면 int 64\n",
    "a = np.array([1,2,3])\n",
    "b = np.array([1,2,3], dtype=np.float64)\n",
    "c = np.array([1,2,3], dtype=np.int32)\n",
    "print(a.dtype, b.dtype, c.dtype)\n",
    "\n",
    "a = np.array([1,2,3], dtype='i1') # int 는 바이트 수로 간략화해서 쓸 수 있다\n",
    "b = np.array([1,2,3], dtype='i2')\n",
    "c = np.array([1,2,3], dtype='i4')\n",
    "c = np.array([1,2,3], dtype='i8')\n",
    "print(a.dtype, b.dtype, c.dtype, d.dtype)\n",
    "\n",
    " # u는 unsigned int\n",
    "a = np.array([1,2,3], dtype='u1')\n",
    "b = np.array([1,2,3], dtype='u2')\n",
    "c = np.array([1,2,3], dtype='u4')\n",
    "c = np.array([1,2,3], dtype='u8')\n",
    "print(a.dtype, b.dtype, c.dtype, d.dtype)\n",
    "\n",
    "# f는 floating point\n",
    "b = np.array([1,2,3], dtype='f2')\n",
    "c = np.array([1,2,3], dtype='f4')\n",
    "c = np.array([1,2,3], dtype='f8')\n",
    "print( b.dtype, c.dtype, d.dtype)\n",
    "\n",
    "# 넘파이 어레이의 데이터타입을 변경하고 싶을 때는 astype을 이용한다.\n",
    "a = c.astype(np.uint8)\n",
    "print(a, a.dtype)"
   ]
  },
  {
   "cell_type": "markdown",
   "id": "746aa36e",
   "metadata": {},
   "source": [
    "##### # 넘파이 어레이의 인덱싱과 슬라이싱"
   ]
  },
  {
   "cell_type": "code",
   "execution_count": null,
   "id": "eb700925",
   "metadata": {},
   "outputs": [],
   "source": [
    "# ndarray indexing and slicing ( 넘파이 어레이의 인덱싱과 슬라이싱-> 리스트와 유사)\n",
    "a = np.arange(10)\n",
    "print(a[0], a[-1], a[9])\n",
    "print(a[5:8])\n",
    "print(a[5:-2])\n",
    "print(a[5:-1]) # 뒤에 것은 포함 안됨(미만)\n",
    "a[5:-2] = 10\n",
    "print(a)\n",
    "\n",
    "# indexing을 사용하면 항상 랭크(차원)가 1차원 감소한다. 반면에 slicing은 차원이 유지된다.\n",
    "# 0차원은 scalar값임을 의미한다.\n",
    "\n",
    "b = np.arange(1,13)\n",
    "print(b)\n",
    "print(b.shape)\n",
    "print(b.ndim)\n",
    "\n",
    "# 둘다 2를 나타내지만 출력([] 유무)과 차원/shape이 다름\n",
    "indexing = b[1]\n",
    "slicing = b[1:2]\n",
    "print(indexing, indexing.shape, indexing.ndim, type(indexing))\n",
    "print(slicing, slicing.shape, slicing.ndim, type(slicing))\n",
    "\n",
    "print(c[:,:,:1])\n",
    "print() # 위 아래는 같은 표현이다.\n",
    "print(c[...,:1])\n",
    "\n",
    "# 매트릭을 이용한 인덱싱(?)\n",
    "a = np.random.randn(4,4)\n",
    "bool_idx_a = (a>=0)\n",
    "print(bool_idx_a)\n",
    "print(a[bool_idx_a]) #  그러나 기존의 차원은 무시하고 1 차원으로 나옴...\n",
    "a[a<0] = -100\n",
    "print(a)"
   ]
  },
  {
   "cell_type": "markdown",
   "id": "43b5f1d2",
   "metadata": {},
   "source": [
    "##### # ndarray의 shape"
   ]
  },
  {
   "cell_type": "code",
   "execution_count": null,
   "id": "6bfd6900",
   "metadata": {},
   "outputs": [],
   "source": [
    "# reshape을 이용해 ndarray의 차원과 모양을 바꿀 수 있다\n",
    "b = b.reshape(3,4)\n",
    "print(b)\n",
    "print(b.shape)\n",
    "print(b.ndim)\n",
    "print()\n",
    "row_r1 = b[1,:]\n",
    "row_r2 = b[1:2, :]\n",
    "\n",
    "print(row_r1, row_r1.shape, row_r1.ndim)\n",
    "print()\n",
    "print(row_r2, row_r2.shape, row_r2.ndim)"
   ]
  },
  {
   "cell_type": "markdown",
   "id": "7f6f1688",
   "metadata": {},
   "source": [
    "##### stack과 cat ( 어레이 쌓기/합치기)"
   ]
  },
  {
   "cell_type": "code",
   "execution_count": null,
   "id": "50b75850",
   "metadata": {},
   "outputs": [],
   "source": [
    "# 스택은 dim이 추가된다.\n",
    "d =  np.hstack((d,d,d,d)) # 열 방향으로 쌓음\n",
    "print(d, d.shape)\n",
    "\n",
    "d = np.vstack((d,d)) # 행 방향으로 쌓음\n",
    "print(d, d.shape)\n",
    "\n",
    "# 두 넘파이배열 합치기 -> 리스트처럼 이어붙이기\n",
    "c = np.concatenate((a,b), axis=-1)\n",
    "# c = np.concatenate((a,b), axis=0)\n",
    "# c = np.concatenate((a,b), axis=1)\n",
    "print(c, c.shape)"
   ]
  },
  {
   "cell_type": "markdown",
   "id": "73517df4",
   "metadata": {},
   "source": [
    "##### # transpose"
   ]
  },
  {
   "cell_type": "code",
   "execution_count": null,
   "id": "2eb671ec",
   "metadata": {},
   "outputs": [],
   "source": [
    "f = np.arange(16).reshape(2,2,4) # 0번 1번 2번 축\n",
    "print(f, f.shape)\n",
    "\n",
    "print(f.transpose().shape)\n",
    "print(f.transpose())\n",
    "\n",
    "print(f.transpose(2,1,0))\n",
    "\n",
    "print(f.transpose(1,0,2)) #축의 순서를 1번 0번 2번 -> 0 번 1번 축 자리 바꾸기\n",
    "print(f.swapaxes(0,1)) # 두개의 축을 골라서 바꿀 수 있음 \n",
    "# -> 텐서플로(h,w,c) 파이토치(c,h,w) 이미지 텐서 표현 순서가 다르므로 바꿔줄때 사용\n"
   ]
  },
  {
   "cell_type": "markdown",
   "id": "8c5f54de",
   "metadata": {},
   "source": [
    "##### # 넘파이 (사칙)연산"
   ]
  },
  {
   "cell_type": "code",
   "execution_count": null,
   "id": "88ae0b44",
   "metadata": {},
   "outputs": [],
   "source": [
    "# numpy 연산 : 사칙 연산은 모두 element-wise\n",
    "\n",
    "x = np.array([[1,2],[3,4]], dtype = np.float64)\n",
    "y = np.array([[5,6],[7,8]], dtype = np.float64)\n",
    "print(x)\n",
    "print(y)\n",
    "\n",
    "# numpy 덧셈\n",
    "print(x+y)\n",
    "print(np.add(x,y))\n",
    "\n",
    "# numpy 뺄셈\n",
    "print(x-y)\n",
    "print(np.subtract(x,y))\n",
    "\n",
    "# numpy 곱셈\n",
    "print(x*y)\n",
    "print(np.multiply(x,y))\n",
    "\n",
    "# numpy 행렬 곱(matrix multiplication)\n",
    "print(x@y)\n",
    "print(np.matmul(x,y))\n",
    "\n",
    "# 모든 원소의 합\n",
    "np.sum(x)\n",
    "\n",
    "# sum의 축(axis)를 지정해 줄 수도 있다\n",
    "z = np.arange(1,11).reshape(2,-1)\n",
    "print(z)\n",
    "sum1 = np.sum(z,axis=0) # 행끼리 더해버리기\n",
    "sum2 = np.sum(z,axis=1) # 열끼리 더해버리기\n",
    "sum3 = np.sum(z,axis=-1)\n",
    "print(sum1, sum1.shape)\n",
    "print(sum2, sum2.shape)\n",
    "print(sum3, sum3.shape)\n",
    "\n",
    "'''\n",
    "츅은 각 배열의 차원에 해당하는 인덱스\n",
    "axis = 0 에 대하여 sum: 0번 축(차원)이 없어지는 방향으로 원소를 모두 더해라 즉 z[0,:]+z[1,:]이고, shape (2,5)->(5,)\n",
    "나머지 축은 그대로 두고 0번축 값들을 바꾸면서 더하기\n",
    "axis = 1 에 대하여 sum: 1번 축이 없어지는 방향으로 즉 z[:,0]+z[:,1]+z[:,2]+z[:,3]+z[:,4] \n",
    "나머지 축은 그대로 두고 1번 축 값들을 바꾸면서 더하기\n",
    "'''"
   ]
  },
  {
   "cell_type": "code",
   "execution_count": null,
   "id": "0f00b853",
   "metadata": {},
   "outputs": [],
   "source": [
    "# Broadcasting\n",
    "'''\n",
    "브로드캐스팅은 넘파이가 산술 연산을 수행할 때 다른 모양의 배열을 연산할 수 있게 작업해주는 매커니즘\n",
    "작은 배열과 큰 배열이 있다면 작은 배열을 확장해 큰 배열과 연산할수 있도록 벡터를 추가한다.\n",
    "'''\n",
    "\n",
    "# broadcasting의 동작 방식\n",
    "'''\n",
    "1) 배열의 차원이 같지 않으면 두 모양이 같은 길이가 될 때까지 낮은 차원의 배열 앞에 차원을 1씩 추가한다\n",
    "   eg. dim 3 (2,3,3) & dim 2 (3,3) -> dim 3 (2,3,3) & dim 3 (1, 3,3)\n",
    "2) 두 배열은 차원에서 크기가 갇거나 배열 중 하나의 차원 크기가 1인 경우 호환 가능하다고 한다.\n",
    "3) 배열은 모든 차원에서 호환 가능하면 함께 브로드캐스트 될 수 있다.\n",
    "4) 브로드캐스트 후 각 배열은 두 개의 입력 배열의 요소 모양 최대 갯수와 동일한 모양을 가진 것처럼 동작\n",
    "5) 한 배열의 크기가 1이고 다른 배열의 크기가 1보다 큰 차원에서 첫번째 배열은 마치 해당 차원을 따라 복사된 것처럼 작동한다\n",
    "\n",
    "배열A와 배열B의 shape을 생각한다\n",
    "len(A.shape) == len(B.shape) 인지 확인한다(==차원이 같은지 확인한다.)\n",
    "같지 않은 경우 두 배열의 len(shape)이 같아질 때까지 적은쪽의 shape 앞에 1을 추가한다.\n",
    "\n",
    "(5, 3) + (3, )\n",
    "(5, 3) + (1, 3)\n",
    "(5, 3) + (5, 3)\n",
    "(5, 3)\n",
    "'''\n",
    "x = np.array([[1,2,3],[4,5,6],[7,8,9],[10,11,12]])\n",
    "# y = np.array([1,0,2,3])\n",
    "# y=y.reshape(4,1)\n",
    "y = np.array([1,0,2])\n",
    "\n",
    "print(x, x.shape)\n",
    "print(y, y.shape)\n",
    "\n",
    "print()\n",
    "print(x+y)"
   ]
  },
  {
   "cell_type": "code",
   "execution_count": null,
   "id": "1ef6ccaf",
   "metadata": {},
   "outputs": [],
   "source": [
    "# 브로드캐스팅 조건 확인\n",
    "x = np.array([1,2,3]).reshape(1,3)\n",
    "y = np.array([4,5]).reshape(1,2)\n",
    "print(x.shape)\n",
    "print(y.shape)\n",
    "print(x+y) # 브로드 캐스팅 조건이 맞지 않음\n",
    "# 차원을 맞춰 놓고, 같은 axis의 shape값은 반드시 하나가 1이어야 함."
   ]
  }
 ],
 "metadata": {
  "hide_input": false,
  "kernelspec": {
   "display_name": "Python 3",
   "language": "python",
   "name": "python3"
  },
  "language_info": {
   "codemirror_mode": {
    "name": "ipython",
    "version": 3
   },
   "file_extension": ".py",
   "mimetype": "text/x-python",
   "name": "python",
   "nbconvert_exporter": "python",
   "pygments_lexer": "ipython3",
   "version": "3.7.9"
  },
  "toc": {
   "base_numbering": 1,
   "nav_menu": {},
   "number_sections": true,
   "sideBar": true,
   "skip_h1_title": false,
   "title_cell": "Table of Contents",
   "title_sidebar": "Contents",
   "toc_cell": false,
   "toc_position": {},
   "toc_section_display": true,
   "toc_window_display": false
  },
  "varInspector": {
   "cols": {
    "lenName": 16,
    "lenType": 16,
    "lenVar": 40
   },
   "kernels_config": {
    "python": {
     "delete_cmd_postfix": "",
     "delete_cmd_prefix": "del ",
     "library": "var_list.py",
     "varRefreshCmd": "print(var_dic_list())"
    },
    "r": {
     "delete_cmd_postfix": ") ",
     "delete_cmd_prefix": "rm(",
     "library": "var_list.r",
     "varRefreshCmd": "cat(var_dic_list()) "
    }
   },
   "types_to_exclude": [
    "module",
    "function",
    "builtin_function_or_method",
    "instance",
    "_Feature"
   ],
   "window_display": false
  }
 },
 "nbformat": 4,
 "nbformat_minor": 5
}
